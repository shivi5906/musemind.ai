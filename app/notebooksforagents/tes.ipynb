{
 "cells": [
  {
   "cell_type": "code",
   "execution_count": 1,
   "id": "b5e5372f",
   "metadata": {},
   "outputs": [
    {
     "name": "stderr",
     "output_type": "stream",
     "text": [
      "c:\\Users\\shiva\\OneDrive\\Desktop\\projects\\musemindAi\\myenv\\Lib\\site-packages\\tqdm\\auto.py:21: TqdmWarning: IProgress not found. Please update jupyter and ipywidgets. See https://ipywidgets.readthedocs.io/en/stable/user_install.html\n",
      "  from .autonotebook import tqdm as notebook_tqdm\n"
     ]
    }
   ],
   "source": [
    "from app.versecraftAgent import VerseCraftAgent\n",
    "from app.plotweaaver import PlotWeaver"
   ]
  },
  {
   "cell_type": "code",
   "execution_count": 2,
   "id": "6e6c7517",
   "metadata": {},
   "outputs": [
    {
     "name": "stderr",
     "output_type": "stream",
     "text": [
      "c:\\Users\\shiva\\OneDrive\\Desktop\\projects\\musemindAi\\app\\versecraftAgent.py:46: LangChainDeprecationWarning: The class `HuggingFaceEmbeddings` was deprecated in LangChain 0.2.2 and will be removed in 1.0. An updated version of the class exists in the :class:`~langchain-huggingface package and should be used instead. To use it run `pip install -U :class:`~langchain-huggingface` and import as `from :class:`~langchain_huggingface import HuggingFaceEmbeddings``.\n",
      "  self.embedding_model = HuggingFaceEmbeddings(model_name=\"all-MiniLM-L6-v2\")\n"
     ]
    },
    {
     "name": "stdout",
     "output_type": "stream",
     "text": [
      "✅ Loaded kafka vector store\n",
      "✅ Loaded dostovesky vector store\n",
      "✅ Loaded rumi vector store\n",
      "✅ Vectorstore loaded successfully from ./vectorstores/plot_ideas\n",
      "Template expects these variables: ['raw_prompt']\n"
     ]
    },
    {
     "name": "stderr",
     "output_type": "stream",
     "text": [
      "c:\\Users\\shiva\\OneDrive\\Desktop\\projects\\musemindAi\\app\\versecraftAgent.py:449: LangChainDeprecationWarning: The method `BaseRetriever.get_relevant_documents` was deprecated in langchain-core 0.1.46 and will be removed in 1.0. Use :meth:`~invoke` instead.\n",
      "  docs = retriever.get_relevant_documents(search_query)\n",
      "c:\\Users\\shiva\\OneDrive\\Desktop\\projects\\musemindAi\\app\\versecraftAgent.py:455: LangChainDeprecationWarning: The class `LLMChain` was deprecated in LangChain 0.1.17 and will be removed in 1.0. Use :meth:`~RunnableSequence, e.g., `prompt | llm`` instead.\n",
      "  chain = LLMChain(llm=self.llm, prompt=template)\n"
     ]
    },
    {
     "name": "stdout",
     "output_type": "stream",
     "text": [
      "\n",
      "🧠 MuseMorph Output:\n",
      "\n",
      "✅ Loaded kafka vector store\n",
      "✅ Loaded dostovesky vector store\n",
      "✅ Loaded rumi vector store\n",
      "✅ Vectorstore loaded successfully from ./vectorstores/plot_ideas\n",
      "\n",
      "🧠 MuseMorph Output:\n",
      "\n",
      "The blush of twilight, a rosy shroud draped across the heavens as the city exhales its last breath of daytime clamor. “The sky turned pink as the city fell silent.” It is more than a sensory observation; it is a poignant juxtaposition, a fleeting glimpse into the ephemeral nature of both beauty and being. What deeper resonance lies within this fragile moment of transition?\n",
      "\n",
      "Firstly, the pink sky, a spectacle of transient beauty, speaks to the inherent impermanence of existence. Colors shift, hues deepen and fade, mirroring the rise and fall of civilizations, the ebb and flow of emotions, the fleeting nature of life itself. Is beauty merely a cosmetic veil cast over the relentless march of entropy? Or does its transience imbue it with a particular poignancy, a reminder to cherish the present moment, knowing it will inevitably slip through our fingers like grains of sand? The fleeting nature of the pink sky prompts us to consider the value we place on things that are destined to vanish. Do we love them more precisely because of their impermanence, or do we perpetually strive to capture and preserve them, futilely attempting to defy the very essence of their beauty?\n",
      "\n",
      "Secondly, the silence that descends upon the city is not merely the absence of sound, but a palpable presence, a space carved out by the cessation of activity. It is within this silence that consciousness has the opportunity to truly awaken, to turn inward and confront the echoes of its own thoughts and emotions. Does the city, in its silenced state, become more real, stripped of its distracting facade? Or does it become a ghost of its former self, a hollow shell awaiting the return of its animating force? The silence invites introspection, challenging us to confront the noise within ourselves, the cacophony of desires and anxieties that often drown out the still, small voice of intuition. Is true understanding only possible when we silence the external world and listen to the internal landscape?\n",
      "\n",
      "Thirdly, the conjunction of vibrant color and profound quiet creates a paradox: an active stillness, a dynamic peace. It highlights the inherent contradictions within the human condition, the constant tension between activity and rest, between striving and acceptance, between the external world and the internal realm. We are beings of perpetual motion, yet we yearn for stillness; we seek meaning and purpose, yet we are confronted with the apparent absurdity of existence. The pink sky and the silent city serve as a microcosm of this universal struggle, a reminder that true understanding may lie not in resolving these contradictions, but in embracing them, in finding harmony within the inherent dissonance of life.\n",
      "\n",
      "Ultimately, the image of the pink sky and the silent city raises profound questions about the nature of perception, the illusion of permanence, and the search for meaning in a world defined by change. Is our experience of reality merely a subjective interpretation, filtered through the lens of our individual consciousness? Is the beauty we perceive in the pink sky a reflection of an objective truth, or a projection of our own longing for transcendence? And in the silence of the city, do we hear the echoes of our own mortality, or the whispers of a deeper, more profound reality waiting to be discovered? Perhaps the true wisdom lies not in finding definitive answers, but in embracing the uncertainty, in allowing ourselves to be moved by the beauty and the silence, and in continuing to ask the questions that give meaning to our fleeting existence.\n"
     ]
    }
   ],
   "source": [
    "# musemorph_agent.py\n",
    "\n",
    "# Import your two existing agents\n",
    "\n",
    "\n",
    "\n",
    "class MuseMorphAgent:\n",
    "    def __init__(self):\n",
    "        self.versecraft = VerseCraftAgent()\n",
    "        self.plotweaver = PlotWeaver()\n",
    "\n",
    "    def morph(self, raw_thought: str, desired_output: str) -> str:\n",
    "        desired_output = desired_output.lower().strip()\n",
    "\n",
    "        if desired_output == \"freeverse\":\n",
    "            # Send raw_thought to VerseCraft (with default mood/keywords if needed)\n",
    "            return self.versecraft.generate_poem_from_raw(raw_thought)\n",
    "\n",
    "        elif desired_output == \"structuredpoem\":\n",
    "            # Send raw_thought to PlotWeaver (genre + structure)\n",
    "            return self.plotweaver.generate_plot_from_raw(raw_thought)\n",
    "\n",
    "        elif desired_output == \"philosophicalreflection\":\n",
    "            # Simple structured reflection (can be enhanced later)\n",
    "            return self.reflect_on_thought(raw_thought)\n",
    "\n",
    "        else:\n",
    "            return \"❌ Unsupported output format selected.\"\n",
    "\n",
    "    def reflect_on_thought(self, text: str) -> str:\n",
    "        # Simple philosophical reflection — can later be replaced with a chain\n",
    "        return f\"[Reflection Mode]\\n'{text}'\\nmakes us question reality itself.\"\n",
    "\n",
    "\n",
    "# ✅ Example Usage\n",
    "if __name__ == \"__main__\":\n",
    "    musemorph = MuseMorphAgent()\n",
    "\n",
    "    raw_thought = \"The sky turned pink as the city fell silent.\"\n",
    "    desired_output = \"freeverse\"  # Try: freeverse, structuredpoem, philosophicalreflection\n",
    "\n",
    "    result = musemorph.morph(raw_thought, desired_output)\n",
    "\n",
    "    print(\"\\n🧠 MuseMorph Output:\\n\")# musemorph_agent.py\n",
    "\n",
    "# Import your two existing agents\n",
    "\n",
    "\n",
    "\n",
    "class MuseMorphAgent:\n",
    "    def __init__(self):\n",
    "        self.versecraft = VerseCraftAgent()\n",
    "        self.plotweaver = PlotWeaver()\n",
    "\n",
    "    def morph(self, raw_thought: str, desired_output: str) -> str:\n",
    "        desired_output = desired_output.lower().strip()\n",
    "\n",
    "        if desired_output == \"freeverse\":\n",
    "            # Send raw_thought to VerseCraft (with default mood/keywords if needed)\n",
    "            return self.versecraft.generate_poem_from_raw(raw_thought)\n",
    "\n",
    "        elif desired_output == \"structuredpoem\":\n",
    "            # Send raw_thought to PlotWeaver (genre + structure)\n",
    "            return self.versecraft.generate_poem_from_raw2(raw_thought)\n",
    "\n",
    "        elif desired_output == \"philosophicalreflection\":\n",
    "            # Simple structured reflection (can be enhanced later)\n",
    "            return self.plotweaver.generate_philosophical_reflection(raw_thought)\n",
    "\n",
    "        else:\n",
    "            return \"❌ Unsupported output format selected.\"\n",
    "\n",
    "    def reflect_on_thought(self, text: str) -> str:\n",
    "        # Simple philosophical reflection — can later be replaced with a chain\n",
    "        return f\"[Reflection Mode]\\n'{text}'\\nmakes us question reality itself.\"\n",
    "\n",
    "\n",
    "# ✅ Example Usage\n",
    "if __name__ == \"__main__\":\n",
    "    musemorph = MuseMorphAgent()\n",
    "\n",
    "    raw_thought = \"The sky turned pink as the city fell silent.\"\n",
    "    desired_output = \"philosophicalreflection\"  # Try: freeverse, structuredpoem, philosophicalreflection\n",
    "\n",
    "    result = musemorph.morph(raw_thought, desired_output)\n",
    "\n",
    "    print(\"\\n🧠 MuseMorph Output:\\n\")\n",
    "    print(result['reflection'])\n",
    "\n",
    "    \n"
   ]
  }
 ],
 "metadata": {
  "kernelspec": {
   "display_name": "myenv",
   "language": "python",
   "name": "python3"
  },
  "language_info": {
   "codemirror_mode": {
    "name": "ipython",
    "version": 3
   },
   "file_extension": ".py",
   "mimetype": "text/x-python",
   "name": "python",
   "nbconvert_exporter": "python",
   "pygments_lexer": "ipython3",
   "version": "3.13.1"
  }
 },
 "nbformat": 4,
 "nbformat_minor": 5
}
