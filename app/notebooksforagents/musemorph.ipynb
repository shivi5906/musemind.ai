{
 "cells": [
  {
   "cell_type": "code",
   "execution_count": 1,
   "id": "9e3a06dc",
   "metadata": {},
   "outputs": [
    {
     "name": "stderr",
     "output_type": "stream",
     "text": [
      "c:\\Users\\shiva\\OneDrive\\Desktop\\projects\\musemindAi\\myenv\\Lib\\site-packages\\tqdm\\auto.py:21: TqdmWarning: IProgress not found. Please update jupyter and ipywidgets. See https://ipywidgets.readthedocs.io/en/stable/user_install.html\n",
      "  from .autonotebook import tqdm as notebook_tqdm\n"
     ]
    }
   ],
   "source": [
    "from app.versecraftAgent import VerseCraftAgent\n",
    "from app.plotweaaver import PlotWeaver"
   ]
  },
  {
   "cell_type": "code",
   "execution_count": 2,
   "id": "482eca44",
   "metadata": {},
   "outputs": [
    {
     "name": "stderr",
     "output_type": "stream",
     "text": [
      "c:\\Users\\shiva\\OneDrive\\Desktop\\projects\\musemindAi\\app\\versecraftAgent.py:46: LangChainDeprecationWarning: The class `HuggingFaceEmbeddings` was deprecated in LangChain 0.2.2 and will be removed in 1.0. An updated version of the class exists in the :class:`~langchain-huggingface package and should be used instead. To use it run `pip install -U :class:`~langchain-huggingface` and import as `from :class:`~langchain_huggingface import HuggingFaceEmbeddings``.\n",
      "  self.embedding_model = HuggingFaceEmbeddings(model_name=\"all-MiniLM-L6-v2\")\n"
     ]
    },
    {
     "name": "stdout",
     "output_type": "stream",
     "text": [
      "✅ Loaded kafka vector store\n",
      "✅ Loaded dostovesky vector store\n",
      "✅ Loaded rumi vector store\n",
      "✅ Vectorstore loaded successfully from ./vectorstores/plot_ideas\n"
     ]
    },
    {
     "name": "stderr",
     "output_type": "stream",
     "text": [
      "c:\\Users\\shiva\\OneDrive\\Desktop\\projects\\musemindAi\\app\\versecraftAgent.py:558: LangChainDeprecationWarning: The method `BaseRetriever.get_relevant_documents` was deprecated in langchain-core 0.1.46 and will be removed in 1.0. Use :meth:`~invoke` instead.\n",
      "  docs = retriever.get_relevant_documents(search_query)\n",
      "c:\\Users\\shiva\\OneDrive\\Desktop\\projects\\musemindAi\\app\\versecraftAgent.py:562: LangChainDeprecationWarning: The class `LLMChain` was deprecated in LangChain 0.1.17 and will be removed in 1.0. Use :meth:`~RunnableSequence, e.g., `prompt | llm`` instead.\n",
      "  chain = LLMChain(llm=self.llm, prompt=template)\n"
     ]
    },
    {
     "name": "stdout",
     "output_type": "stream",
     "text": [
      "\n",
      "🧠 MuseMorph Output:\n",
      "\n",
      "The city exhaled, a breath held too long,\n",
      "As day surrendered, yielding to the night.\n",
      "Steel and glass, where ambition was strong,\n",
      "Now mirrored the heavens, painted in soft light.\n",
      "A hush descended, a blanket untold,\n",
      "As pink brushed the skyline, brave and bold.\n",
      "\n",
      "The engines ceased their mechanical cries,\n",
      "And sirens grew faint, a distant, mournful plea.\n",
      "Reflections deepened in slumbering eyes,\n",
      "A fleeting moment of tranquility.\n",
      "The concrete canyons, where shadows reside,\n",
      "Were softened by colors, nowhere to hide.\n",
      "\n",
      "This fragile beauty, a painter's soft stroke,\n",
      "Masked the relentless rhythm underneath.\n",
      "A promise whispered, a silent invoke,\n",
      "Of dreams emerging, beyond life and death.\n",
      "The pink receded, the silence remained,\n",
      "A secret unspoken, forever sustained.\n"
     ]
    }
   ],
   "source": [
    "# musemorph_agent.py\n",
    "\n",
    "# Import your two existing agents\n",
    "\n",
    "\n",
    "\n",
    "class MuseMorphAgent:\n",
    "    def __init__(self):\n",
    "        self.versecraft = VerseCraftAgent()\n",
    "        self.plotweaver = PlotWeaver()\n",
    "\n",
    "    def morph(self, raw_thought: str, desired_output: str) -> str:\n",
    "        desired_output = desired_output.lower().strip()\n",
    "\n",
    "        if desired_output == \"freeverse\":\n",
    "            # Send raw_thought to VerseCraft (with default mood/keywords if needed)\n",
    "            return self.versecraft.generate_poem_from_raw(raw_thought)\n",
    "\n",
    "        elif desired_output == \"structuredpoem\":\n",
    "            # Send raw_thought to PlotWeaver (genre + structure)\n",
    "            return self.versecraft.generate_poem_from_raw2(raw_thought)\n",
    "\n",
    "        elif desired_output == \"philosophicalreflection\":\n",
    "            # Simple structured reflection (can be enhanced later)\n",
    "            return self.plotweaver.generatereflction(raw_thought)\n",
    "        else:\n",
    "            return \"❌ Unsupported output format selected.\"\n",
    "\n",
    "    def reflect_on_thought(self, text: str) -> str:\n",
    "        # Simple philosophical reflection — can later be replaced with a chain\n",
    "        return f\"[Reflection Mode]\\n'{text}'\\nmakes us question reality itself.\"\n",
    "\n",
    "\n",
    "# ✅ Example Usage\n",
    "if __name__ == \"__main__\":\n",
    "    musemorph = MuseMorphAgent()\n",
    "\n",
    "    raw_thought = \"The sky turned pink as the city fell silent.\"\n",
    "    desired_output = \"structuredpoem\"  # Try: freeverse, structuredpoem, philosophicalreflection\n",
    "\n",
    "    result = musemorph.morph(raw_thought, desired_output)\n",
    "\n",
    "    print(\"\\n🧠 MuseMorph Output:\\n\")\n",
    "    print(result[\"poem\"])\n"
   ]
  },
  {
   "cell_type": "code",
   "execution_count": null,
   "id": "270679cf",
   "metadata": {},
   "outputs": [],
   "source": []
  },
  {
   "cell_type": "code",
   "execution_count": null,
   "id": "54bb38d9",
   "metadata": {},
   "outputs": [],
   "source": []
  },
  {
   "cell_type": "code",
   "execution_count": null,
   "id": "eaa40883",
   "metadata": {},
   "outputs": [],
   "source": []
  }
 ],
 "metadata": {
  "kernelspec": {
   "display_name": "myenv",
   "language": "python",
   "name": "python3"
  },
  "language_info": {
   "codemirror_mode": {
    "name": "ipython",
    "version": 3
   },
   "file_extension": ".py",
   "mimetype": "text/x-python",
   "name": "python",
   "nbconvert_exporter": "python",
   "pygments_lexer": "ipython3",
   "version": "3.13.1"
  }
 },
 "nbformat": 4,
 "nbformat_minor": 5
}
